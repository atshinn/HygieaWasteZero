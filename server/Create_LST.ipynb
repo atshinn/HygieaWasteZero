{
 "cells": [
  {
   "cell_type": "code",
   "execution_count": 1,
   "metadata": {},
   "outputs": [],
   "source": [
    "import boto3 as aws\n",
    "import os"
   ]
  },
  {
   "cell_type": "code",
   "execution_count": 2,
   "metadata": {},
   "outputs": [],
   "source": [
    "sak = os.environ[\"AWS_SAK\"]\n",
    "ak = os.environ[\"AWS_AK\"]\n",
    "region = 'us-west-1'\n",
    "bucket = 'hywz.wastezero'\n",
    "rec_bucket_path = '{}/recycle'.format(bucket)\n",
    "comp_bucket_path = '{}/compost'.format(bucket)"
   ]
  },
  {
   "cell_type": "code",
   "execution_count": 10,
   "metadata": {},
   "outputs": [],
   "source": [
    "s3 = aws.resource(\"s3\", aws_access_key_id=ak, aws_secret_access_key=sak, region_name=region)\n"
   ]
  },
  {
   "cell_type": "code",
   "execution_count": 11,
   "metadata": {},
   "outputs": [],
   "source": [
    "bucket = s3.Bucket(bucket)"
   ]
  },
  {
   "cell_type": "code",
   "execution_count": 20,
   "metadata": {
    "collapsed": true
   },
   "outputs": [
    {
     "name": "stdout",
     "output_type": "stream",
     "text": [
      "Sat_Aug_18_23-28-54_2018.bmp\n",
      "Thu_Aug_30_17-20-00_2018.bmp\n",
      "Thu_Aug_30_23-21-10_2018.bmp\n",
      "hywz-config-access2018-08-30-23-18-37-EF463ADADD1642A9\n",
      "hywz-config-access2018-08-30-23-24-16-260601825E9AFCB4\n",
      "hywz-config-access2018-08-30-23-25-31-369C7010C322FDE5\n",
      "hywz-config-access2018-08-30-23-26-18-0C7166D44DBC4754\n",
      "hywz-config-access2018-08-30-23-29-51-AAAD2C93944536BC\n",
      "hywz-config-access2018-08-30-23-29-54-AA895AAC7D9E037F\n",
      "hywz-config-access2018-08-30-23-32-02-B8BA175427A0CBDA\n",
      "hywz-config-access2018-08-30-23-32-12-22956FF7D90481AF\n",
      "hywz-config-access2018-08-30-23-32-26-E21E4D9B701A52E2\n",
      "hywz-config-access2018-08-30-23-32-41-B74EBFAB58234D15\n",
      "hywz-config-access2018-08-30-23-33-50-2D6B56CD12C26A97\n",
      "hywz-config-access2018-08-30-23-34-56-31CA94DE34613F9B\n",
      "hywz-config-access2018-08-30-23-34-57-0C44A4664BBEA539\n",
      "hywz-config-access2018-08-30-23-36-42-7F793A58F7289999\n",
      "hywz-config-access2018-08-30-23-37-20-DB3D6E9517D8F0EF\n",
      "hywz-config-access2018-08-30-23-37-58-A0056DCA7CFE0F0C\n",
      "hywz-config-access2018-08-30-23-38-30-65A836ED5DE3F831\n",
      "hywz-config-access2018-08-30-23-39-26-E456690B1F530F67\n",
      "hywz-config-access2018-08-30-23-40-00-7E0D18E7F834D944\n",
      "hywz-config-access2018-08-30-23-40-11-7621958E24E227C3\n",
      "hywz-config-access2018-08-30-23-44-34-942D36644BA4A849\n",
      "hywz-config-access2018-08-30-23-48-17-13F26695D3EF04B7\n",
      "hywz-config-access2018-08-30-23-54-35-056534F1F8A7E2D6\n",
      "hywz-config-access2018-08-30-23-55-12-C690A5C00517E5E5\n",
      "hywz-config-access2018-08-31-00-22-47-CBB762CF710B03CE\n",
      "hywz-config-access2018-08-31-00-24-57-CBF678C758C685B0\n",
      "hywz-config-access2018-08-31-04-29-17-886CDBB04EB9A0AD\n",
      "hywz-config-access2018-08-31-04-31-00-46C1CE777F517759\n",
      "hywz-config-access2018-08-31-04-31-27-6E2A627B4D08B6FD\n",
      "hywz-config-access2018-08-31-04-32-12-950C67F65163AA52\n",
      "hywz-config-access2018-08-31-04-32-23-DC9972FED2836DC4\n",
      "hywz-config-access2018-09-02-00-24-46-E40B15220722161B\n",
      "hywz-config-access2018-09-02-00-35-44-5D7800F4A1CBC0AE\n",
      "hywz-config-access2018-09-06-23-23-45-2C9F2FCFD9B2904B\n",
      "hywz-config-access2018-09-06-23-28-18-6A96C6DEC84F999F\n",
      "hywz-config-access2018-09-06-23-28-24-CE6C1343DA978800\n",
      "hywz-config-access2018-09-06-23-29-37-4DDA5361ADEC689D\n",
      "hywz-config-access2018-09-06-23-30-11-A3420715E3D3EB66\n",
      "hywz-config-access2018-09-06-23-38-46-DA52BAFC8F7FFF16\n",
      "hywz-config-access2018-09-07-18-21-36-60234EC0CF394C25\n",
      "hywz-config-access2018-09-07-18-36-38-F8678FD30031DC61\n",
      "hywz-config-access2018-09-07-19-27-02-54872C1987A4E039\n",
      "hywz-config-access2018-09-08-00-35-37-58687D4ACE14F92B\n",
      "hywz-config-access2018-09-08-00-53-05-51966B3EC64F7B30\n",
      "hywz-config-access2018-10-04-14-25-48-9EBCC130F019DC0A\n",
      "hywz-config-access2018-10-07-17-19-00-B893C62DF75BD1D0\n"
     ]
    }
   ],
   "source": [
    "fkeys = []\n",
    "for f in bucket.objects.all():\n",
    "    if f.key.endswith(\".jpg\") or f.key.endswith(\".png\"):\n",
    "        fkeys.append(('recycle', f.key))\n",
    "    else:\n",
    "        print(f.key)"
   ]
  },
  {
   "cell_type": "code",
   "execution_count": 18,
   "metadata": {},
   "outputs": [],
   "source": [
    "def getPath(fn):\n",
    "    return 'https://s3-{}.amazonaws.com/{}/{}'.format(region, bucket, fn)"
   ]
  },
  {
   "cell_type": "code",
   "execution_count": 24,
   "metadata": {},
   "outputs": [],
   "source": [
    "def createLstFile(fkeys):\n",
    "    rows = []\n",
    "    fstr = ''\n",
    "    for fn,i in zip(fkeys,range(len(fkeys))):\n",
    "        rows.append((i,fn[0],fn[-1]))\n",
    "    for r in rows:\n",
    "        fstr = fstr + '{}\\t{}\\t{}\\n'.format(r[0],r[1],r[2])\n",
    "    return fstr"
   ]
  },
  {
   "cell_type": "code",
   "execution_count": 26,
   "metadata": {
    "collapsed": true
   },
   "outputs": [
    {
     "name": "stdout",
     "output_type": "stream",
     "text": [
      "0\trecycle\tFri_Aug_17_17-06-08_2018.jpg\n",
      "1\trecycle\tFri_Aug_17_17-08-37_2018.jpg\n",
      "2\trecycle\tFri_Aug_17_17-13-36_2018.jpg\n",
      "3\trecycle\tFri_Aug_31_21-30-02_2018.jpg\n",
      "4\trecycle\tFri_Sep_21_03-03-10_2018.jpg\n",
      "5\trecycle\tFri_Sep_21_03-08-26_2018.jpg\n",
      "6\trecycle\tFri_Sep_21_03-09-20_2018.jpg\n",
      "7\trecycle\tFri_Sep_21_03-09-50_2018.jpg\n",
      "8\trecycle\tFri_Sep_21_03-15-07_2018.jpg\n",
      "9\trecycle\tFri_Sep_21_03-15-42_2018.jpg\n",
      "10\trecycle\tFri_Sep_21_03-19-08_2018.jpg\n",
      "11\trecycle\tFri_Sep_21_03-20-49_2018.jpg\n",
      "12\trecycle\tFri_Sep_21_03-23-34_2018.jpg\n",
      "13\trecycle\tFri_Sep_21_03-25-55_2018.jpg\n",
      "14\trecycle\tFri_Sep_21_03-28-03_2018.jpg\n",
      "15\trecycle\tFri_Sep_21_03-29-16_2018.jpg\n",
      "16\trecycle\tFri_Sep_21_03-34-27_2018.jpg\n",
      "17\trecycle\tFri_Sep_21_03-35-04_2018.jpg\n",
      "18\trecycle\tFri_Sep_21_03-35-31_2018.jpg\n",
      "19\trecycle\tFri_Sep_21_03-49-27_2018.jpg\n",
      "20\trecycle\tFri_Sep_21_04-05-39_2018.jpg\n",
      "21\trecycle\tFri_Sep_21_04-10-46_2018.jpg\n",
      "22\trecycle\tFri_Sep_21_16-12-35_2018.jpg\n",
      "23\trecycle\tFri_Sep_21_16-13-50_2018.jpg\n",
      "24\trecycle\tFri_Sep_21_17-23-50_2018.jpg\n",
      "25\trecycle\tFri_Sep_21_17-24-13_2018.jpg\n",
      "26\trecycle\tFri_Sep_21_17-24-56_2018.jpg\n",
      "27\trecycle\tFri_Sep_21_17-26-08_2018.jpg\n",
      "28\trecycle\tFri_Sep_28_02-51-07_2018.jpg\n",
      "29\trecycle\tMon_Oct__1_03-29-35_2018.jpg\n",
      "30\trecycle\tMon_Oct__1_03-31-08_2018.jpg\n",
      "31\trecycle\tSat_Aug_18_15-13-49_2018.jpg\n",
      "32\trecycle\tSat_Aug_18_15-13-56_2018.jpg\n",
      "33\trecycle\tSat_Aug_18_15-14-19_2018.jpg\n",
      "34\trecycle\tSat_Aug_18_15-14-27_2018.jpg\n",
      "35\trecycle\tSat_Aug_18_15-46-37_2018.jpg\n",
      "36\trecycle\tSat_Aug_18_16-26-02_2018.jpg\n",
      "37\trecycle\tSat_Aug_18_16-26-30_2018.jpg\n",
      "38\trecycle\tSat_Aug_18_16-27-09_2018.jpg\n",
      "39\trecycle\tSat_Aug_18_22-25-52_2018.jpg\n",
      "40\trecycle\tSat_Aug_18_22-26-00_2018.jpg\n",
      "41\trecycle\tSat_Sep__1_16-24-08_2018.jpg\n",
      "42\trecycle\tSat_Sep__1_17-06-20_2018.jpg\n",
      "43\trecycle\tSat_Sep__1_17-06-42_2018.jpg\n",
      "44\trecycle\tSat_Sep__1_17-09-49_2018.jpg\n",
      "45\trecycle\tSat_Sep__1_17-13-42_2018.jpg\n",
      "46\trecycle\tSat_Sep__1_17-15-48_2018.jpg\n",
      "47\trecycle\tSat_Sep__1_17-19-40_2018.jpg\n",
      "48\trecycle\tSun_Sep__2_00-16-53_2018.jpg\n",
      "49\trecycle\tSun_Sep__2_22-35-24_2018.jpg\n",
      "50\trecycle\tThu_Aug_30_13-37-39_2018.jpg\n",
      "51\trecycle\tThu_Aug_30_16-19-50_2018.jpg\n",
      "52\trecycle\tThu_Aug_30_16-23-49_2018.jpg\n",
      "53\trecycle\tThu_Aug_30_18-52-59_2018.jpg\n",
      "54\trecycle\tThu_Aug_30_19-28-08_2018.jpg\n",
      "55\trecycle\tThu_Aug_30_19-29-23_2018.jpg\n",
      "56\trecycle\tThu_Aug_30_23-25-29_2018.jpg\n",
      "57\trecycle\tThu_Aug_30_23-26-01_2018.jpg\n",
      "58\trecycle\tTue_Sep_18_02-14-28_2018.jpg\n",
      "59\trecycle\tTue_Sep_18_02-59-55_2018.jpg\n",
      "60\trecycle\tTue_Sep_18_03-56-25_2018.jpg\n",
      "61\trecycle\tTue_Sep_18_03-56-41_2018.jpg\n",
      "62\trecycle\tTue_Sep_18_03-56-58_2018.jpg\n",
      "63\trecycle\tTue_Sep_18_04-01-10_2018.jpg\n",
      "64\trecycle\tTue_Sep_18_04-07-13_2018.jpg\n",
      "65\trecycle\tTue_Sep_18_04-07-35_2018.jpg\n",
      "66\trecycle\tTue_Sep_18_05-03-14_2018.jpg\n",
      "67\trecycle\tTue_Sep_18_05-03-36_2018.jpg\n",
      "68\trecycle\tWed_Aug_22_20-10-15_2018.jpg\n",
      "69\trecycle\tWed_Aug_22_20-10-21_2018.jpg\n",
      "70\trecycle\tWed_Sep_19_20-58-28_2018.jpg\n",
      "71\trecycle\tWed_Sep_19_21-08-57_2018.jpg\n",
      "72\trecycle\tWed_Sep_19_21-09-31_2018.jpg\n",
      "73\trecycle\tWed_Sep_19_21-19-54_2018.jpg\n",
      "74\trecycle\tWed_Sep_19_21-24-15_2018.jpg\n",
      "75\trecycle\ttest.jpg\n",
      "\n"
     ]
    }
   ],
   "source": [
    "print(createLstFile(fkeys))"
   ]
  }
 ],
 "metadata": {
  "kernelspec": {
   "display_name": "Python 3",
   "language": "python",
   "name": "python3"
  },
  "language_info": {
   "codemirror_mode": {
    "name": "ipython",
    "version": 3
   },
   "file_extension": ".py",
   "mimetype": "text/x-python",
   "name": "python",
   "nbconvert_exporter": "python",
   "pygments_lexer": "ipython3",
   "version": "3.6.4"
  }
 },
 "nbformat": 4,
 "nbformat_minor": 2
}
